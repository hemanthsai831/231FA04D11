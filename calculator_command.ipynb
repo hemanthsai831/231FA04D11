{
  "nbformat": 4,
  "nbformat_minor": 0,
  "metadata": {
    "colab": {
      "provenance": [],
      "include_colab_link": true
    },
    "kernelspec": {
      "name": "python3",
      "display_name": "Python 3"
    },
    "language_info": {
      "name": "python"
    }
  },
  "cells": [
    {
      "cell_type": "markdown",
      "metadata": {
        "id": "view-in-github",
        "colab_type": "text"
      },
      "source": [
        "<a href=\"https://colab.research.google.com/github/hemanthsai831/231FA04D11/blob/main/calculator_command.ipynb\" target=\"_parent\"><img src=\"https://colab.research.google.com/assets/colab-badge.svg\" alt=\"Open In Colab\"/></a>"
      ]
    },
    {
      "cell_type": "code",
      "source": [
        "!pip install gtts\n"
      ],
      "metadata": {
        "colab": {
          "base_uri": "https://localhost:8080/"
        },
        "id": "ENca2N1UJ1-Z",
        "outputId": "f9053468-8b21-40b0-8d43-e9ed73233624"
      },
      "execution_count": null,
      "outputs": [
        {
          "output_type": "stream",
          "name": "stdout",
          "text": [
            "Requirement already satisfied: gtts in /usr/local/lib/python3.11/dist-packages (2.5.4)\n",
            "Requirement already satisfied: requests<3,>=2.27 in /usr/local/lib/python3.11/dist-packages (from gtts) (2.32.3)\n",
            "Requirement already satisfied: click<8.2,>=7.1 in /usr/local/lib/python3.11/dist-packages (from gtts) (8.1.8)\n",
            "Requirement already satisfied: charset-normalizer<4,>=2 in /usr/local/lib/python3.11/dist-packages (from requests<3,>=2.27->gtts) (3.4.2)\n",
            "Requirement already satisfied: idna<4,>=2.5 in /usr/local/lib/python3.11/dist-packages (from requests<3,>=2.27->gtts) (3.10)\n",
            "Requirement already satisfied: urllib3<3,>=1.21.1 in /usr/local/lib/python3.11/dist-packages (from requests<3,>=2.27->gtts) (2.4.0)\n",
            "Requirement already satisfied: certifi>=2017.4.17 in /usr/local/lib/python3.11/dist-packages (from requests<3,>=2.27->gtts) (2025.4.26)\n"
          ]
        }
      ]
    },
    {
      "cell_type": "code",
      "source": [
        "spoken_text = \"five plus three minus two\""
      ],
      "metadata": {
        "id": "bDd60OrJJ2i4"
      },
      "execution_count": null,
      "outputs": []
    },
    {
      "cell_type": "code",
      "source": [
        "def words_to_math(expr):\n",
        "    # Mapping words to symbols/digits\n",
        "    replacements = {\n",
        "        \"plus\": \"+\",\n",
        "        \"minus\": \"-\",\n",
        "        \"divided\": \"/\",\n",
        "        \"multiply\": \"*\",\n",
        "        \"power\": \"**\",\n",
        "        \"one\": \"1\",\n",
        "        \"two\": \"2\",\n",
        "        \"three\": \"3\",\n",
        "        \"four\": \"4\",\n",
        "        \"five\": \"5\",\n",
        "        \"six\": \"6\",\n",
        "        \"seven\": \"7\",\n",
        "        \"eight\": \"8\",\n",
        "        \"nine\": \"9\",\n",
        "        \"zero\": \"0\"\n",
        "    }\n",
        "    # Lowercase input for uniformity\n",
        "    expr = expr.lower()\n",
        "\n",
        "    # Replace each word with its symbol/digit\n",
        "    for word, symbol in replacements.items():\n",
        "        expr = expr.replace(word, symbol)\n",
        "\n",
        "    # Remove extra spaces\n",
        "    expr = expr.replace(\" \", \"\")\n",
        "    return expr\n",
        "\n"
      ],
      "metadata": {
        "id": "DBDJ7ugrJ5j4"
      },
      "execution_count": null,
      "outputs": []
    },
    {
      "cell_type": "code",
      "source": [
        "math_expression = words_to_math(spoken_text)\n",
        "print(\"Mathematical Expression:\", math_expression)\n"
      ],
      "metadata": {
        "colab": {
          "base_uri": "https://localhost:8080/"
        },
        "id": "Ck7jrHscKASK",
        "outputId": "1ef7cef5-69e0-4bbd-91be-f0518aa9093f"
      },
      "execution_count": null,
      "outputs": [
        {
          "output_type": "stream",
          "name": "stdout",
          "text": [
            "Mathematical Expression: 5+3-2\n"
          ]
        }
      ]
    },
    {
      "cell_type": "code",
      "source": [
        "from gtts import gTTS\n",
        "\n",
        "tts = gTTS(spoken_text, lang='en')\n",
        "tts.save(\"/content/akshitha voice.mp3\")\n",
        "print(\"/content/akshitha voice.mp3\")"
      ],
      "metadata": {
        "colab": {
          "base_uri": "https://localhost:8080/"
        },
        "id": "u9qkd3wOKQLo",
        "outputId": "d415bca2-a20f-4a89-fddb-3079d899be2f"
      },
      "execution_count": null,
      "outputs": [
        {
          "output_type": "stream",
          "name": "stdout",
          "text": [
            "/content/akshitha voice.mp3\n"
          ]
        }
      ]
    },
    {
      "cell_type": "code",
      "source": [
        "from IPython.display import Audio\n",
        "Audio(\"/content/akshitha voice.mp3\", autoplay=True)\n"
      ],
      "metadata": {
        "colab": {
          "base_uri": "https://localhost:8080/",
          "height": 76
        },
        "id": "IoMLjC7HKUGo",
        "outputId": "5378b3af-eb52-44d2-f7fd-0a0128e7e190"
      },
      "execution_count": null,
      "outputs": [
        {
          "output_type": "execute_result",
          "data": {
            "text/plain": [
              "<IPython.lib.display.Audio object>"
            ],
            "text/html": [
              "\n",
              "                <audio  controls=\"controls\" autoplay=\"autoplay\">\n",
              "                    <source src=\"data:audio/mpeg;base64,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\" type=\"audio/mpeg\" />\n",
              "                    Your browser does not support the audio element.\n",
              "                </audio>\n",
              "              "
            ]
          },
          "metadata": {},
          "execution_count": 23
        }
      ]
    },
    {
      "cell_type": "code",
      "source": [],
      "metadata": {
        "id": "_XQH5ewuKxyQ"
      },
      "execution_count": null,
      "outputs": []
    }
  ]
}