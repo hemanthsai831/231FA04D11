{
  "cells": [
    {
      "cell_type": "markdown",
      "metadata": {
        "id": "view-in-github",
        "colab_type": "text"
      },
      "source": [
        "<a href=\"https://colab.research.google.com/github/hemanthsai831/231FA04D11/blob/main/student_performance_predict_agent.ipynb\" target=\"_parent\"><img src=\"https://colab.research.google.com/assets/colab-badge.svg\" alt=\"Open In Colab\"/></a>"
      ]
    },
    {
      "cell_type": "code",
      "execution_count": null,
      "metadata": {
        "id": "m-cl51jZPzE9"
      },
      "outputs": [],
      "source": [
        "l = pickle.load(open('/content/student.pkl','rb'))"
      ]
    },
    {
      "cell_type": "markdown",
      "metadata": {
        "id": "S_cA9_GoSpxv"
      },
      "source": []
    },
    {
      "cell_type": "code",
      "execution_count": null,
      "metadata": {
        "id": "c9cmUNMZPevZ"
      },
      "outputs": [],
      "source": [
        "import pickle"
      ]
    },
    {
      "cell_type": "code",
      "execution_count": null,
      "metadata": {
        "colab": {
          "background_save": true,
          "base_uri": "https://localhost:8080/"
        },
        "id": "Tf2xPXCaP5lk",
        "outputId": "b5b9c4fe-e08d-46d1-875c-dee1cebfbbb5"
      },
      "outputs": [
        {
          "name": "stdout",
          "output_type": "stream",
          "text": [
            "Enter the following values (as integers based on encoding):\n"
          ]
        }
      ],
      "source": [
        "print(\"Enter the following values (as integers based on encoding):\")\n",
        "gender = int(input(\"Gender (0 = Male, 1 = Female): \"))\n",
        "race = int(input(\"Race (0 = Group A, 1 = Group B, 2 = Group C, 3 = Group D, 4 = Group E): \"))\n",
        "parent_edu = int(input(\"Parental Education (0 = Bachelor, 1 = High School, 2 = Master, 3 = Some College): \"))\n",
        "lunch = int(input(\"Lunch (0 = Free/Reduced, 1 = Standard): \"))\n",
        "test_prep = int(input(\"Test Preparation (0 = Completed, 1 = None): \"))\n",
        "math = int(input(\"Math Score (0–100): \"))\n",
        "reading = int(input(\"Reading Score (0–100): \"))\n",
        "writing = int(input(\"Writing Score (0–100): \"))\n",
        "attendance = int(input(\"Attendance (0–100): \"))\n",
        "prev_grades = int(input(\"Previous Grades (0–100): \"))"
      ]
    },
    {
      "cell_type": "code",
      "execution_count": null,
      "metadata": {
        "id": "V7UMi0ZaaFi_"
      },
      "outputs": [],
      "source": [
        "sample = [[gender, race, parent_edu, lunch, test_prep, math, reading, writing, attendance, prev_grades]]\n",
        "\n",
        "a = l.predict(sample)\n",
        "\n",
        "print(\"\\nPredicted Performance:\", \"High\" if a[0] == 0 else \"Low\")"
      ]
    },
    {
      "cell_type": "code",
      "execution_count": null,
      "metadata": {
        "id": "ihsPK1U-RX4G"
      },
      "outputs": [],
      "source": [
        "from sklearn.metrics import accuracy_score"
      ]
    },
    {
      "cell_type": "code",
      "execution_count": null,
      "metadata": {
        "id": "aAVaHq2NRaFE"
      },
      "outputs": [],
      "source": []
    }
  ],
  "metadata": {
    "colab": {
      "provenance": [],
      "include_colab_link": true
    },
    "kernelspec": {
      "display_name": "Python 3",
      "name": "python3"
    },
    "language_info": {
      "name": "python"
    }
  },
  "nbformat": 4,
  "nbformat_minor": 0
}